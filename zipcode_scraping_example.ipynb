{
 "cells": [
  {
   "cell_type": "code",
   "execution_count": 2,
   "metadata": {
    "ExecuteTime": {
     "end_time": "2020-02-20T18:52:48.348022Z",
     "start_time": "2020-02-20T18:52:43.078380Z"
    }
   },
   "outputs": [],
   "source": [
    "import pandas as pd\n",
    "from bs4 import BeautifulSoup\n",
    "import requests\n",
    "import numpy as np\n",
    "import matplotlib.pyplot as plt\n",
    "import seaborn as sns"
   ]
  },
  {
   "cell_type": "code",
   "execution_count": 3,
   "metadata": {
    "ExecuteTime": {
     "end_time": "2020-02-20T18:52:48.357338Z",
     "start_time": "2020-02-20T18:52:48.348360Z"
    }
   },
   "outputs": [],
   "source": [
    "harvey_zip_codes = [77002, 77003, 77004, 77005, 77006, 77007, 77008, 77009, 77010, 77011, 77012, 77013, 77014, 77015,\n",
    "                   77016, 77017, 77018, 77019,77020,77021,77022,77023,77024,77025,77026,77027,77028,77029,77030,77031,\n",
    "                   77032,77033,77034,77035,77036,77037,77038,77039,77048,77049,77050,77051,77052,77053,77054,77055, 77056, \n",
    "                    77057, 77058, 77059, 77060, 77061, 77062, 77063, 77064, 77065, 77066, 77067, 77068, 77069, 77070, 77071,\n",
    "                    77072, 77073, 77074, 77075, 77076, 77077, 77078, 77079, 77080, 77081, 77082, 77083, 77084, 77085, 77086,\n",
    "                    77087, 77088, 77089, 77090, 77091, 77092, 77093, 77094, 77095, 77096, 77097, 77098, 77099, 77204, 77217,\n",
    "                    77249, 77251, 77266, 77268, 77271, 77284, 77289, 77336, 77339, 77338, 77345, 77346, 77357, 77373, 77375,\n",
    "                    77377, 77379, 77383, 77389, 77388, 77396, 77401, 77410, 77429, 77433, 77447, 77450, 77449, 77484, 77493,\n",
    "                    77503, 77502, 77505, 77504, 77507, 77506, 77521, 77520, 77530, 77532, 77536, 77546, 77547, 77562, 77571,\n",
    "                    77586, 77587, 77598, 77626, 77630, 77639, 77632, 77611, 77662, 77670\n",
    "                   ]"
   ]
  },
  {
   "cell_type": "code",
   "execution_count": 79,
   "metadata": {},
   "outputs": [],
   "source": [
    "storm_zip_code = []\n",
    "\n",
    "url = 'https://www.bestcase.com/hurricane-harvey-zip-codes/'\n",
    "r = requests.get(url)\n",
    "soup = BeautifulSoup(r.content, 'lxml')\n",
    "table = soup.find('table')\n",
    "    \n",
    "for row in table.find('tbody').find_all('tr'):\n",
    "    storms = {}\n",
    "    storms['zip_code'] = row.find_all('td')[0].text\n",
    "    storms['zip_code2'] = row.find_all('td')[2].text\n",
    "    storms['zip_code3'] = row.find_all('td')[4].text\n",
    "    storm_zip_code.append(storms)   "
   ]
  },
  {
   "cell_type": "code",
   "execution_count": 33,
   "metadata": {},
   "outputs": [],
   "source": [
    "dorian_zip_code = []\n",
    "\n",
    "url = 'https://www.getzips.com/cgi-bin/ziplook.exe?What=3&County=palm+beach&State=FL&Submit=Look+It+Up'\n",
    "r = requests.get(url)\n",
    "soup = BeautifulSoup(r.content, 'lxml')\n",
    "table = soup.find('table', {'width' : 540})\n",
    "    \n",
    "for row in table.find_all('tr')[1:]:\n",
    "    dorian = {}\n",
    "    dorian['zip_code'] = row.find('td').find('p').text\n",
    "    dorian_zip_code.append(dorian) \n",
    "zip_code_df = pd.DataFrame(dorian_zip_code)"
   ]
  },
  {
   "cell_type": "code",
   "execution_count": 36,
   "metadata": {},
   "outputs": [],
   "source": [
    "zip_code_df.to_csv('dorian_zips.csv')"
   ]
  },
  {
   "cell_type": "code",
   "execution_count": 42,
   "metadata": {},
   "outputs": [
    {
     "data": {
      "text/plain": [
       "zip_code     object\n",
       "zip_code2    object\n",
       "zip_code3    object\n",
       "dtype: object"
      ]
     },
     "execution_count": 42,
     "metadata": {},
     "output_type": "execute_result"
    }
   ],
   "source": [
    "harvey_zip_codes.dtypes"
   ]
  },
  {
   "cell_type": "code",
   "execution_count": 26,
   "metadata": {},
   "outputs": [],
   "source": [
    "main_df['zip'] = main_df['zip'].astype(str)"
   ]
  },
  {
   "cell_type": "code",
   "execution_count": 30,
   "metadata": {},
   "outputs": [],
   "source": [
    "main_df['zip'] = main_df['zip'].str[:5]"
   ]
  },
  {
   "cell_type": "code",
   "execution_count": 94,
   "metadata": {},
   "outputs": [],
   "source": [
    "harvey_zips = df_1['zip_code'].tolist()"
   ]
  },
  {
   "cell_type": "code",
   "execution_count": 35,
   "metadata": {},
   "outputs": [],
   "source": [
    "second_column_zips = harvey_zip_codes['zip_code2'].tolist()"
   ]
  },
  {
   "cell_type": "code",
   "execution_count": 36,
   "metadata": {},
   "outputs": [],
   "source": [
    "third_column_zips = harvey_zip_codes['zip_code3'].tolist()"
   ]
  },
  {
   "cell_type": "code",
   "execution_count": null,
   "metadata": {
    "ExecuteTime": {
     "end_time": "2020-02-20T18:52:32.106615Z",
     "start_time": "2020-02-20T18:52:32.055749Z"
    }
   },
   "outputs": [],
   "source": [
    "for w in first_column_zips:\n",
    "        print(w);"
   ]
  },
  {
   "cell_type": "code",
   "execution_count": 52,
   "metadata": {},
   "outputs": [],
   "source": [
    "harvey = []\n",
    "for i in master_df['zip']:\n",
    "    if i in set(harvey_zip_codes):\n",
    "        harvey.append(1)\n",
    "    else:\n",
    "        harvey.append(0)\n",
    "\n",
    "       "
   ]
  },
  {
   "cell_type": "code",
   "execution_count": null,
   "metadata": {},
   "outputs": [],
   "source": [
    "harvey;"
   ]
  },
  {
   "cell_type": "code",
   "execution_count": 54,
   "metadata": {},
   "outputs": [],
   "source": [
    "master_df['harvey_affected'] = harvey"
   ]
  },
  {
   "cell_type": "code",
   "execution_count": 37,
   "metadata": {},
   "outputs": [],
   "source": [
    "for w in second_column_zips:\n",
    "    for e in main_df['zip']:\n",
    "        if w == e:\n",
    "            main_df['harvey_affected'] = 1\n",
    "        else:\n",
    "            main_df['harvey_affected'] = 0"
   ]
  },
  {
   "cell_type": "code",
   "execution_count": 38,
   "metadata": {},
   "outputs": [],
   "source": [
    "for w in third_column_zips:\n",
    "    for e in main_df['zip']:\n",
    "        if w == e:\n",
    "            main_df['harvey_affected'] = 1\n",
    "        else:\n",
    "            main_df['harvey_affected'] = 0"
   ]
  },
  {
   "cell_type": "code",
   "execution_count": 100,
   "metadata": {},
   "outputs": [],
   "source": [
    "main_df.to_csv('3_hurricane_df.csv')"
   ]
  },
  {
   "cell_type": "code",
   "execution_count": 104,
   "metadata": {},
   "outputs": [],
   "source": [
    "harvey_df.to_csv('harvey_df.csv')"
   ]
  },
  {
   "cell_type": "code",
   "execution_count": 105,
   "metadata": {},
   "outputs": [],
   "source": [
    "dorian_df.to_csv('dorian_df.csv')"
   ]
  },
  {
   "cell_type": "code",
   "execution_count": 106,
   "metadata": {},
   "outputs": [],
   "source": [
    "sandy_df.to_csv('sandy_df.csv')"
   ]
  },
  {
   "cell_type": "code",
   "execution_count": 3,
   "metadata": {},
   "outputs": [],
   "source": [
    "master_df = pd.read_csv('master_df.csv')"
   ]
  },
  {
   "cell_type": "code",
   "execution_count": 4,
   "metadata": {},
   "outputs": [
    {
     "data": {
      "text/plain": [
       "-0.02199227274609259"
      ]
     },
     "execution_count": 4,
     "metadata": {},
     "output_type": "execute_result"
    }
   ],
   "source": [
    "master_df['%_change_after_harvey'].mean()"
   ]
  },
  {
   "cell_type": "code",
   "execution_count": 4,
   "metadata": {},
   "outputs": [
    {
     "data": {
      "text/html": [
       "<div>\n",
       "<style scoped>\n",
       "    .dataframe tbody tr th:only-of-type {\n",
       "        vertical-align: middle;\n",
       "    }\n",
       "\n",
       "    .dataframe tbody tr th {\n",
       "        vertical-align: top;\n",
       "    }\n",
       "\n",
       "    .dataframe thead th {\n",
       "        text-align: right;\n",
       "    }\n",
       "</style>\n",
       "<table border=\"1\" class=\"dataframe\">\n",
       "  <thead>\n",
       "    <tr style=\"text-align: right;\">\n",
       "      <th></th>\n",
       "      <th>Unnamed: 0</th>\n",
       "      <th>zip</th>\n",
       "      <th>StateName</th>\n",
       "      <th>pop_rank</th>\n",
       "      <th>2008 mean_median</th>\n",
       "      <th>2009 mean_median</th>\n",
       "      <th>2010 mean_median</th>\n",
       "      <th>2011 mean_median</th>\n",
       "      <th>2012 mean_median</th>\n",
       "      <th>2013 mean_median</th>\n",
       "      <th>...</th>\n",
       "      <th>2017 mean_median</th>\n",
       "      <th>2018 mean_median</th>\n",
       "      <th>2019 mean_median</th>\n",
       "      <th>dorian_affected</th>\n",
       "      <th>%_change_after_dorian</th>\n",
       "      <th>sandy_affected</th>\n",
       "      <th>%_change_after_sandy</th>\n",
       "      <th>harvey_affected</th>\n",
       "      <th>%_change_after_harvey</th>\n",
       "      <th>harvey_category</th>\n",
       "    </tr>\n",
       "  </thead>\n",
       "  <tbody>\n",
       "    <tr>\n",
       "      <td>0</td>\n",
       "      <td>0</td>\n",
       "      <td>10025</td>\n",
       "      <td>New York</td>\n",
       "      <td>1</td>\n",
       "      <td>NaN</td>\n",
       "      <td>NaN</td>\n",
       "      <td>NaN</td>\n",
       "      <td>NaN</td>\n",
       "      <td>NaN</td>\n",
       "      <td>NaN</td>\n",
       "      <td>...</td>\n",
       "      <td>9.840167e+05</td>\n",
       "      <td>1.008175e+06</td>\n",
       "      <td>9.713083e+05</td>\n",
       "      <td>0</td>\n",
       "      <td>-0.145095</td>\n",
       "      <td>1</td>\n",
       "      <td>NaN</td>\n",
       "      <td>0</td>\n",
       "      <td>0.175213</td>\n",
       "      <td>4</td>\n",
       "    </tr>\n",
       "    <tr>\n",
       "      <td>1</td>\n",
       "      <td>1</td>\n",
       "      <td>60657</td>\n",
       "      <td>Illinois</td>\n",
       "      <td>2</td>\n",
       "      <td>376660.0</td>\n",
       "      <td>380441.666667</td>\n",
       "      <td>380441.666667</td>\n",
       "      <td>377933.333333</td>\n",
       "      <td>350575.000000</td>\n",
       "      <td>356400.000000</td>\n",
       "      <td>...</td>\n",
       "      <td>3.284333e+05</td>\n",
       "      <td>3.706917e+05</td>\n",
       "      <td>4.066250e+05</td>\n",
       "      <td>0</td>\n",
       "      <td>-0.040440</td>\n",
       "      <td>0</td>\n",
       "      <td>-0.103477</td>\n",
       "      <td>0</td>\n",
       "      <td>-0.166555</td>\n",
       "      <td>4</td>\n",
       "    </tr>\n",
       "    <tr>\n",
       "      <td>2</td>\n",
       "      <td>2</td>\n",
       "      <td>10023</td>\n",
       "      <td>New York</td>\n",
       "      <td>3</td>\n",
       "      <td>NaN</td>\n",
       "      <td>NaN</td>\n",
       "      <td>NaN</td>\n",
       "      <td>NaN</td>\n",
       "      <td>NaN</td>\n",
       "      <td>NaN</td>\n",
       "      <td>...</td>\n",
       "      <td>1.181275e+06</td>\n",
       "      <td>1.122175e+06</td>\n",
       "      <td>1.135267e+06</td>\n",
       "      <td>0</td>\n",
       "      <td>-0.137013</td>\n",
       "      <td>1</td>\n",
       "      <td>NaN</td>\n",
       "      <td>0</td>\n",
       "      <td>-0.017010</td>\n",
       "      <td>4</td>\n",
       "    </tr>\n",
       "    <tr>\n",
       "      <td>3</td>\n",
       "      <td>3</td>\n",
       "      <td>77494</td>\n",
       "      <td>Texas</td>\n",
       "      <td>4</td>\n",
       "      <td>243110.0</td>\n",
       "      <td>246758.333333</td>\n",
       "      <td>246758.333333</td>\n",
       "      <td>244550.000000</td>\n",
       "      <td>252083.333333</td>\n",
       "      <td>263333.333333</td>\n",
       "      <td>...</td>\n",
       "      <td>3.280583e+05</td>\n",
       "      <td>3.314667e+05</td>\n",
       "      <td>3.239909e+05</td>\n",
       "      <td>0</td>\n",
       "      <td>-0.020593</td>\n",
       "      <td>0</td>\n",
       "      <td>0.009964</td>\n",
       "      <td>1</td>\n",
       "      <td>-0.041589</td>\n",
       "      <td>4</td>\n",
       "    </tr>\n",
       "    <tr>\n",
       "      <td>4</td>\n",
       "      <td>4</td>\n",
       "      <td>60614</td>\n",
       "      <td>Illinois</td>\n",
       "      <td>5</td>\n",
       "      <td>NaN</td>\n",
       "      <td>NaN</td>\n",
       "      <td>NaN</td>\n",
       "      <td>NaN</td>\n",
       "      <td>NaN</td>\n",
       "      <td>NaN</td>\n",
       "      <td>...</td>\n",
       "      <td>3.829000e+05</td>\n",
       "      <td>4.331417e+05</td>\n",
       "      <td>5.040583e+05</td>\n",
       "      <td>0</td>\n",
       "      <td>-0.063878</td>\n",
       "      <td>0</td>\n",
       "      <td>NaN</td>\n",
       "      <td>0</td>\n",
       "      <td>0.083498</td>\n",
       "      <td>4</td>\n",
       "    </tr>\n",
       "  </tbody>\n",
       "</table>\n",
       "<p>5 rows × 23 columns</p>\n",
       "</div>"
      ],
      "text/plain": [
       "   Unnamed: 0    zip StateName  pop_rank  2008 mean_median  2009 mean_median  \\\n",
       "0           0  10025  New York         1               NaN               NaN   \n",
       "1           1  60657  Illinois         2          376660.0     380441.666667   \n",
       "2           2  10023  New York         3               NaN               NaN   \n",
       "3           3  77494     Texas         4          243110.0     246758.333333   \n",
       "4           4  60614  Illinois         5               NaN               NaN   \n",
       "\n",
       "   2010 mean_median  2011 mean_median  2012 mean_median  2013 mean_median  \\\n",
       "0               NaN               NaN               NaN               NaN   \n",
       "1     380441.666667     377933.333333     350575.000000     356400.000000   \n",
       "2               NaN               NaN               NaN               NaN   \n",
       "3     246758.333333     244550.000000     252083.333333     263333.333333   \n",
       "4               NaN               NaN               NaN               NaN   \n",
       "\n",
       "   ...  2017 mean_median  2018 mean_median  2019 mean_median  dorian_affected  \\\n",
       "0  ...      9.840167e+05      1.008175e+06      9.713083e+05                0   \n",
       "1  ...      3.284333e+05      3.706917e+05      4.066250e+05                0   \n",
       "2  ...      1.181275e+06      1.122175e+06      1.135267e+06                0   \n",
       "3  ...      3.280583e+05      3.314667e+05      3.239909e+05                0   \n",
       "4  ...      3.829000e+05      4.331417e+05      5.040583e+05                0   \n",
       "\n",
       "   %_change_after_dorian  sandy_affected  %_change_after_sandy  \\\n",
       "0              -0.145095               1                   NaN   \n",
       "1              -0.040440               0             -0.103477   \n",
       "2              -0.137013               1                   NaN   \n",
       "3              -0.020593               0              0.009964   \n",
       "4              -0.063878               0                   NaN   \n",
       "\n",
       "   harvey_affected  %_change_after_harvey  harvey_category  \n",
       "0                0               0.175213                4  \n",
       "1                0              -0.166555                4  \n",
       "2                0              -0.017010                4  \n",
       "3                1              -0.041589                4  \n",
       "4                0               0.083498                4  \n",
       "\n",
       "[5 rows x 23 columns]"
      ]
     },
     "execution_count": 4,
     "metadata": {},
     "output_type": "execute_result"
    }
   ],
   "source": [
    "master_df.head()"
   ]
  },
  {
   "cell_type": "code",
   "execution_count": null,
   "metadata": {},
   "outputs": [],
   "source": [
    "master_df['%_change_after_harvey'] = (zip_code_df['2017-07'] - zip_code_df['2017-10']) / zip_code_df['2017-07']"
   ]
  },
  {
   "cell_type": "code",
   "execution_count": 31,
   "metadata": {},
   "outputs": [
    {
     "data": {
      "text/html": [
       "<div>\n",
       "<style scoped>\n",
       "    .dataframe tbody tr th:only-of-type {\n",
       "        vertical-align: middle;\n",
       "    }\n",
       "\n",
       "    .dataframe tbody tr th {\n",
       "        vertical-align: top;\n",
       "    }\n",
       "\n",
       "    .dataframe thead th {\n",
       "        text-align: right;\n",
       "    }\n",
       "</style>\n",
       "<table border=\"1\" class=\"dataframe\">\n",
       "  <thead>\n",
       "    <tr style=\"text-align: right;\">\n",
       "      <th></th>\n",
       "      <th>zip</th>\n",
       "      <th>StateName</th>\n",
       "      <th>pop_rank</th>\n",
       "      <th>2008 mean_median</th>\n",
       "      <th>2009 mean_median</th>\n",
       "      <th>2010 mean_median</th>\n",
       "      <th>2011 mean_median</th>\n",
       "      <th>2012 mean_median</th>\n",
       "      <th>2013 mean_median</th>\n",
       "      <th>2014 mean_median</th>\n",
       "      <th>...</th>\n",
       "      <th>2017 mean_median</th>\n",
       "      <th>2018 mean_median</th>\n",
       "      <th>2019 mean_median</th>\n",
       "      <th>dorian_affected</th>\n",
       "      <th>%_change_after_dorian</th>\n",
       "      <th>sandy_affected</th>\n",
       "      <th>%_change_after_sandy</th>\n",
       "      <th>harvey_affected</th>\n",
       "      <th>%_change_after_harvey</th>\n",
       "      <th>harvey_category</th>\n",
       "    </tr>\n",
       "  </thead>\n",
       "  <tbody>\n",
       "    <tr>\n",
       "      <td>0</td>\n",
       "      <td>10025</td>\n",
       "      <td>New York</td>\n",
       "      <td>1</td>\n",
       "      <td>NaN</td>\n",
       "      <td>NaN</td>\n",
       "      <td>NaN</td>\n",
       "      <td>NaN</td>\n",
       "      <td>NaN</td>\n",
       "      <td>NaN</td>\n",
       "      <td>NaN</td>\n",
       "      <td>...</td>\n",
       "      <td>9.840167e+05</td>\n",
       "      <td>1.008175e+06</td>\n",
       "      <td>9.713083e+05</td>\n",
       "      <td>0</td>\n",
       "      <td>-0.145095</td>\n",
       "      <td>1</td>\n",
       "      <td>NaN</td>\n",
       "      <td>0</td>\n",
       "      <td>0.175213</td>\n",
       "      <td>4</td>\n",
       "    </tr>\n",
       "    <tr>\n",
       "      <td>1</td>\n",
       "      <td>60657</td>\n",
       "      <td>Illinois</td>\n",
       "      <td>2</td>\n",
       "      <td>376660.0</td>\n",
       "      <td>380441.666667</td>\n",
       "      <td>380441.666667</td>\n",
       "      <td>377933.333333</td>\n",
       "      <td>350575.000000</td>\n",
       "      <td>356400.000000</td>\n",
       "      <td>382133.333333</td>\n",
       "      <td>...</td>\n",
       "      <td>3.284333e+05</td>\n",
       "      <td>3.706917e+05</td>\n",
       "      <td>4.066250e+05</td>\n",
       "      <td>0</td>\n",
       "      <td>-0.040440</td>\n",
       "      <td>0</td>\n",
       "      <td>-0.103477</td>\n",
       "      <td>0</td>\n",
       "      <td>-0.166555</td>\n",
       "      <td>4</td>\n",
       "    </tr>\n",
       "    <tr>\n",
       "      <td>2</td>\n",
       "      <td>10023</td>\n",
       "      <td>New York</td>\n",
       "      <td>3</td>\n",
       "      <td>NaN</td>\n",
       "      <td>NaN</td>\n",
       "      <td>NaN</td>\n",
       "      <td>NaN</td>\n",
       "      <td>NaN</td>\n",
       "      <td>NaN</td>\n",
       "      <td>NaN</td>\n",
       "      <td>...</td>\n",
       "      <td>1.181275e+06</td>\n",
       "      <td>1.122175e+06</td>\n",
       "      <td>1.135267e+06</td>\n",
       "      <td>0</td>\n",
       "      <td>-0.137013</td>\n",
       "      <td>1</td>\n",
       "      <td>NaN</td>\n",
       "      <td>0</td>\n",
       "      <td>-0.017010</td>\n",
       "      <td>4</td>\n",
       "    </tr>\n",
       "    <tr>\n",
       "      <td>3</td>\n",
       "      <td>77494</td>\n",
       "      <td>Texas</td>\n",
       "      <td>4</td>\n",
       "      <td>243110.0</td>\n",
       "      <td>246758.333333</td>\n",
       "      <td>246758.333333</td>\n",
       "      <td>244550.000000</td>\n",
       "      <td>252083.333333</td>\n",
       "      <td>263333.333333</td>\n",
       "      <td>289441.666667</td>\n",
       "      <td>...</td>\n",
       "      <td>3.280583e+05</td>\n",
       "      <td>3.314667e+05</td>\n",
       "      <td>3.239909e+05</td>\n",
       "      <td>0</td>\n",
       "      <td>-0.020593</td>\n",
       "      <td>0</td>\n",
       "      <td>0.009964</td>\n",
       "      <td>1</td>\n",
       "      <td>-0.041589</td>\n",
       "      <td>4</td>\n",
       "    </tr>\n",
       "    <tr>\n",
       "      <td>4</td>\n",
       "      <td>60614</td>\n",
       "      <td>Illinois</td>\n",
       "      <td>5</td>\n",
       "      <td>NaN</td>\n",
       "      <td>NaN</td>\n",
       "      <td>NaN</td>\n",
       "      <td>NaN</td>\n",
       "      <td>NaN</td>\n",
       "      <td>NaN</td>\n",
       "      <td>NaN</td>\n",
       "      <td>...</td>\n",
       "      <td>3.829000e+05</td>\n",
       "      <td>4.331417e+05</td>\n",
       "      <td>5.040583e+05</td>\n",
       "      <td>0</td>\n",
       "      <td>-0.063878</td>\n",
       "      <td>0</td>\n",
       "      <td>NaN</td>\n",
       "      <td>0</td>\n",
       "      <td>0.083498</td>\n",
       "      <td>4</td>\n",
       "    </tr>\n",
       "  </tbody>\n",
       "</table>\n",
       "<p>5 rows × 22 columns</p>\n",
       "</div>"
      ],
      "text/plain": [
       "     zip StateName  pop_rank  2008 mean_median  2009 mean_median  \\\n",
       "0  10025  New York         1               NaN               NaN   \n",
       "1  60657  Illinois         2          376660.0     380441.666667   \n",
       "2  10023  New York         3               NaN               NaN   \n",
       "3  77494     Texas         4          243110.0     246758.333333   \n",
       "4  60614  Illinois         5               NaN               NaN   \n",
       "\n",
       "   2010 mean_median  2011 mean_median  2012 mean_median  2013 mean_median  \\\n",
       "0               NaN               NaN               NaN               NaN   \n",
       "1     380441.666667     377933.333333     350575.000000     356400.000000   \n",
       "2               NaN               NaN               NaN               NaN   \n",
       "3     246758.333333     244550.000000     252083.333333     263333.333333   \n",
       "4               NaN               NaN               NaN               NaN   \n",
       "\n",
       "   2014 mean_median  ...  2017 mean_median  2018 mean_median  \\\n",
       "0               NaN  ...      9.840167e+05      1.008175e+06   \n",
       "1     382133.333333  ...      3.284333e+05      3.706917e+05   \n",
       "2               NaN  ...      1.181275e+06      1.122175e+06   \n",
       "3     289441.666667  ...      3.280583e+05      3.314667e+05   \n",
       "4               NaN  ...      3.829000e+05      4.331417e+05   \n",
       "\n",
       "   2019 mean_median  dorian_affected  %_change_after_dorian  sandy_affected  \\\n",
       "0      9.713083e+05                0              -0.145095               1   \n",
       "1      4.066250e+05                0              -0.040440               0   \n",
       "2      1.135267e+06                0              -0.137013               1   \n",
       "3      3.239909e+05                0              -0.020593               0   \n",
       "4      5.040583e+05                0              -0.063878               0   \n",
       "\n",
       "   %_change_after_sandy  harvey_affected  %_change_after_harvey  \\\n",
       "0                   NaN                0               0.175213   \n",
       "1             -0.103477                0              -0.166555   \n",
       "2                   NaN                0              -0.017010   \n",
       "3              0.009964                1              -0.041589   \n",
       "4                   NaN                0               0.083498   \n",
       "\n",
       "   harvey_category  \n",
       "0                4  \n",
       "1                4  \n",
       "2                4  \n",
       "3                4  \n",
       "4                4  \n",
       "\n",
       "[5 rows x 22 columns]"
      ]
     },
     "execution_count": 31,
     "metadata": {},
     "output_type": "execute_result"
    }
   ],
   "source": [
    "master_df.head()"
   ]
  },
  {
   "cell_type": "code",
   "execution_count": 32,
   "metadata": {},
   "outputs": [],
   "source": [
    "master_df.to_csv(\"master_df.csv\")"
   ]
  },
  {
   "cell_type": "code",
   "execution_count": 60,
   "metadata": {},
   "outputs": [
    {
     "data": {
      "text/html": [
       "<div>\n",
       "<style scoped>\n",
       "    .dataframe tbody tr th:only-of-type {\n",
       "        vertical-align: middle;\n",
       "    }\n",
       "\n",
       "    .dataframe tbody tr th {\n",
       "        vertical-align: top;\n",
       "    }\n",
       "\n",
       "    .dataframe thead th {\n",
       "        text-align: right;\n",
       "    }\n",
       "</style>\n",
       "<table border=\"1\" class=\"dataframe\">\n",
       "  <thead>\n",
       "    <tr style=\"text-align: right;\">\n",
       "      <th></th>\n",
       "      <th>Unnamed: 0</th>\n",
       "      <th>zip</th>\n",
       "      <th>StateName</th>\n",
       "      <th>pop_rank</th>\n",
       "      <th>2008 mean_median</th>\n",
       "      <th>2009 mean_median</th>\n",
       "      <th>2010 mean_median</th>\n",
       "      <th>2011 mean_median</th>\n",
       "      <th>2012 mean_median</th>\n",
       "      <th>2013 mean_median</th>\n",
       "      <th>...</th>\n",
       "      <th>2017 mean_median</th>\n",
       "      <th>2018 mean_median</th>\n",
       "      <th>2019 mean_median</th>\n",
       "      <th>dorian_affected</th>\n",
       "      <th>%_change_after_dorian</th>\n",
       "      <th>sandy_affected</th>\n",
       "      <th>%_change_after_sandy</th>\n",
       "      <th>harvey_affected</th>\n",
       "      <th>%_change_after_harvey</th>\n",
       "      <th>harvey_category</th>\n",
       "    </tr>\n",
       "  </thead>\n",
       "  <tbody>\n",
       "  </tbody>\n",
       "</table>\n",
       "<p>0 rows × 23 columns</p>\n",
       "</div>"
      ],
      "text/plain": [
       "Empty DataFrame\n",
       "Columns: [Unnamed: 0, zip, StateName, pop_rank, 2008 mean_median, 2009 mean_median, 2010 mean_median, 2011 mean_median, 2012 mean_median, 2013 mean_median, 2014 mean_median, 2015 mean_median, 2016 mean_median, 2017 mean_median, 2018 mean_median, 2019 mean_median, dorian_affected, %_change_after_dorian, sandy_affected, %_change_after_sandy, harvey_affected, %_change_after_harvey, harvey_category]\n",
       "Index: []\n",
       "\n",
       "[0 rows x 23 columns]"
      ]
     },
     "execution_count": 60,
     "metadata": {},
     "output_type": "execute_result"
    }
   ],
   "source": [
    "master_df[master_df['zip'] == 77639]"
   ]
  },
  {
   "cell_type": "code",
   "execution_count": 5,
   "metadata": {},
   "outputs": [],
   "source": [
    "harvey_df = master_df.loc[master_df['harvey_affected'] == 1]"
   ]
  },
  {
   "cell_type": "code",
   "execution_count": 7,
   "metadata": {},
   "outputs": [
    {
     "data": {
      "text/plain": [
       "-0.2438443208895949"
      ]
     },
     "execution_count": 7,
     "metadata": {},
     "output_type": "execute_result"
    }
   ],
   "source": [
    "harvey_df['%_change_after_harvey'].min() #houston texas is the worst hit"
   ]
  },
  {
   "cell_type": "code",
   "execution_count": 8,
   "metadata": {},
   "outputs": [
    {
     "data": {
      "text/html": [
       "<div>\n",
       "<style scoped>\n",
       "    .dataframe tbody tr th:only-of-type {\n",
       "        vertical-align: middle;\n",
       "    }\n",
       "\n",
       "    .dataframe tbody tr th {\n",
       "        vertical-align: top;\n",
       "    }\n",
       "\n",
       "    .dataframe thead th {\n",
       "        text-align: right;\n",
       "    }\n",
       "</style>\n",
       "<table border=\"1\" class=\"dataframe\">\n",
       "  <thead>\n",
       "    <tr style=\"text-align: right;\">\n",
       "      <th></th>\n",
       "      <th>Unnamed: 0</th>\n",
       "      <th>zip</th>\n",
       "      <th>StateName</th>\n",
       "      <th>pop_rank</th>\n",
       "      <th>2008 mean_median</th>\n",
       "      <th>2009 mean_median</th>\n",
       "      <th>2010 mean_median</th>\n",
       "      <th>2011 mean_median</th>\n",
       "      <th>2012 mean_median</th>\n",
       "      <th>2013 mean_median</th>\n",
       "      <th>...</th>\n",
       "      <th>2017 mean_median</th>\n",
       "      <th>2018 mean_median</th>\n",
       "      <th>2019 mean_median</th>\n",
       "      <th>dorian_affected</th>\n",
       "      <th>%_change_after_dorian</th>\n",
       "      <th>sandy_affected</th>\n",
       "      <th>%_change_after_sandy</th>\n",
       "      <th>harvey_affected</th>\n",
       "      <th>%_change_after_harvey</th>\n",
       "      <th>harvey_category</th>\n",
       "    </tr>\n",
       "  </thead>\n",
       "  <tbody>\n",
       "    <tr>\n",
       "      <td>3656</td>\n",
       "      <td>3656</td>\n",
       "      <td>77071</td>\n",
       "      <td>Texas</td>\n",
       "      <td>3657</td>\n",
       "      <td>NaN</td>\n",
       "      <td>NaN</td>\n",
       "      <td>NaN</td>\n",
       "      <td>NaN</td>\n",
       "      <td>NaN</td>\n",
       "      <td>NaN</td>\n",
       "      <td>...</td>\n",
       "      <td>135308.333333</td>\n",
       "      <td>155383.333333</td>\n",
       "      <td>174325.0</td>\n",
       "      <td>0</td>\n",
       "      <td>0.014715</td>\n",
       "      <td>0</td>\n",
       "      <td>NaN</td>\n",
       "      <td>1</td>\n",
       "      <td>-0.243844</td>\n",
       "      <td>4</td>\n",
       "    </tr>\n",
       "  </tbody>\n",
       "</table>\n",
       "<p>1 rows × 23 columns</p>\n",
       "</div>"
      ],
      "text/plain": [
       "      Unnamed: 0    zip StateName  pop_rank  2008 mean_median  \\\n",
       "3656        3656  77071     Texas      3657               NaN   \n",
       "\n",
       "      2009 mean_median  2010 mean_median  2011 mean_median  2012 mean_median  \\\n",
       "3656               NaN               NaN               NaN               NaN   \n",
       "\n",
       "      2013 mean_median  ...  2017 mean_median  2018 mean_median  \\\n",
       "3656               NaN  ...     135308.333333     155383.333333   \n",
       "\n",
       "      2019 mean_median  dorian_affected  %_change_after_dorian  \\\n",
       "3656          174325.0                0               0.014715   \n",
       "\n",
       "      sandy_affected  %_change_after_sandy  harvey_affected  \\\n",
       "3656               0                   NaN                1   \n",
       "\n",
       "      %_change_after_harvey  harvey_category  \n",
       "3656              -0.243844                4  \n",
       "\n",
       "[1 rows x 23 columns]"
      ]
     },
     "execution_count": 8,
     "metadata": {},
     "output_type": "execute_result"
    }
   ],
   "source": [
    "harvey_df[harvey_df['%_change_after_harvey'] == -0.2438443208895949]"
   ]
  }
 ],
 "metadata": {
  "kernelspec": {
   "display_name": "Python 3",
   "language": "python",
   "name": "python3"
  },
  "language_info": {
   "codemirror_mode": {
    "name": "ipython",
    "version": 3
   },
   "file_extension": ".py",
   "mimetype": "text/x-python",
   "name": "python",
   "nbconvert_exporter": "python",
   "pygments_lexer": "ipython3",
   "version": "3.7.6"
  },
  "toc": {
   "base_numbering": 1,
   "nav_menu": {},
   "number_sections": true,
   "sideBar": true,
   "skip_h1_title": false,
   "title_cell": "Table of Contents",
   "title_sidebar": "Contents",
   "toc_cell": false,
   "toc_position": {},
   "toc_section_display": true,
   "toc_window_display": false
  }
 },
 "nbformat": 4,
 "nbformat_minor": 2
}
